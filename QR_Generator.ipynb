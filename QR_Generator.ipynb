{
  "nbformat": 4,
  "nbformat_minor": 0,
  "metadata": {
    "colab": {
      "provenance": [],
      "authorship_tag": "ABX9TyNKjWDPH1/LehrQazYz/YL/",
      "include_colab_link": true
    },
    "kernelspec": {
      "name": "python3",
      "display_name": "Python 3"
    },
    "language_info": {
      "name": "python"
    }
  },
  "cells": [
    {
      "cell_type": "markdown",
      "metadata": {
        "id": "view-in-github",
        "colab_type": "text"
      },
      "source": [
        "<a href=\"https://colab.research.google.com/github/Chanda9528/QRcode_Generator/blob/main/QR_Generator.ipynb\" target=\"_parent\"><img src=\"https://colab.research.google.com/assets/colab-badge.svg\" alt=\"Open In Colab\"/></a>"
      ]
    },
    {
      "cell_type": "code",
      "execution_count": 2,
      "metadata": {
        "colab": {
          "base_uri": "https://localhost:8080/"
        },
        "id": "PczHN695hcce",
        "outputId": "b0371f23-3fac-4027-ebd8-ea5baa4a41c8"
      },
      "outputs": [
        {
          "output_type": "stream",
          "name": "stdout",
          "text": [
            "Collecting qrcode\n",
            "  Downloading qrcode-8.0-py3-none-any.whl.metadata (17 kB)\n",
            "Downloading qrcode-8.0-py3-none-any.whl (45 kB)\n",
            "\u001b[?25l   \u001b[90m━━━━━━━━━━━━━━━━━━━━━━━━━━━━━━━━━━━━━━━━\u001b[0m \u001b[32m0.0/45.7 kB\u001b[0m \u001b[31m?\u001b[0m eta \u001b[36m-:--:--\u001b[0m\r\u001b[2K   \u001b[90m━━━━━━━━━━━━━━━━━━━━━━━━━━━━━━━━━━━━━━━━\u001b[0m \u001b[32m45.7/45.7 kB\u001b[0m \u001b[31m1.8 MB/s\u001b[0m eta \u001b[36m0:00:00\u001b[0m\n",
            "\u001b[?25hInstalling collected packages: qrcode\n",
            "Successfully installed qrcode-8.0\n",
            "Requirement already satisfied: pillow in /usr/local/lib/python3.10/dist-packages (11.0.0)\n"
          ]
        }
      ],
      "source": [
        "!pip install qrcode\n",
        "!pip install pillow"
      ]
    },
    {
      "cell_type": "code",
      "source": [
        "import qrcode\n",
        "from PIL import Image\n",
        "\n",
        "data = input(\"Enter the link for which you have to generate QR Code:\\n\")\n",
        "\n",
        "qr = qrcode.QRCode(\n",
        "    version=1,\n",
        "    error_correction=qrcode.constants.ERROR_CORRECT_H,\n",
        "    box_size=10,\n",
        "    border=4,\n",
        ")\n",
        "\n",
        "qr.add_data(data)\n",
        "qr.make(fit=True)\n",
        "\n",
        "img = qr.make_image(fill_color=\"black\", back_color=\"white\")\n",
        "\n",
        "logo_path = \"logo.png\"\n",
        "try:\n",
        "    logo = Image.open(logo_path)\n",
        "\n",
        "    logo_size = (img.size[0] // 5, img.size[1] // 5)\n",
        "    logo = logo.resize(logo_size, Image.ANTIALIAS)\n",
        "\n",
        "    pos = (\n",
        "        (img.size[0] - logo.size[0]) // 2,\n",
        "        (img.size[1] - logo.size[1]) // 2,\n",
        "    )\n",
        "\n",
        "    img = img.convert(\"RGBA\")\n",
        "    img.paste(logo, pos, mask=logo)\n",
        "except FileNotFoundError:\n",
        "    print(f\"Logo file '{logo_path}' not found. Proceeding without a logo.\")\n",
        "\n",
        "output_file = \"QRcode.png\"\n",
        "img.save(output_file)\n",
        "print(f\"QR Code generated and saved as '{output_file}'.\")\n"
      ],
      "metadata": {
        "colab": {
          "base_uri": "https://localhost:8080/"
        },
        "id": "f5o7xL8qhovd",
        "outputId": "d172e37d-e64d-4577-b886-ea75dd8fa225"
      },
      "execution_count": null,
      "outputs": [
        {
          "output_type": "stream",
          "name": "stdout",
          "text": [
            "Enter the link for which you have to generate QR Code:\n",
            "github.com/chanda9528\n",
            "Logo file 'logo.png' not found. Proceeding without a logo.\n",
            "QR Code generated and saved as 'QRcode.png'.\n"
          ]
        }
      ]
    },
    {
      "cell_type": "code",
      "source": [],
      "metadata": {
        "id": "6n-atbxlqbH4"
      },
      "execution_count": null,
      "outputs": []
    }
  ]
}